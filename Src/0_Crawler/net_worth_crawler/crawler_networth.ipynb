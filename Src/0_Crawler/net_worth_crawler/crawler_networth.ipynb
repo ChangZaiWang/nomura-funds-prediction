{
 "cells": [
  {
   "cell_type": "code",
   "execution_count": 1,
   "id": "b88adcbd",
   "metadata": {},
   "outputs": [],
   "source": [
    "import os \n",
    "import json\n",
    "import logging\n",
    "import pandas as pd \n",
    "from tqdm import tqdm\n",
    "\n",
    "import requests\n",
    "from time import sleep\n",
    "from selenium import webdriver\n",
    "from webdriver_manager.chrome import ChromeDriverManager\n",
    "from selenium.webdriver.support.ui import Select\n",
    "from selenium.webdriver.chrome.service import Service\n",
    "from selenium.webdriver.common.by import By"
   ]
  },
  {
   "cell_type": "code",
   "execution_count": 2,
   "id": "entertaining-waters",
   "metadata": {},
   "outputs": [],
   "source": [
    "def get_FUND(url):\n",
    "    FUND = {}\n",
    "    \n",
    "#     url = 'http://fund.hncb.com.tw/w/wb/wb02.djhtm?a=JAZ02-2001&B=0&C=2021-8-1&D=2022-2-28'\n",
    "    driver = webdriver.Chrome(ChromeDriverManager().install())\n",
    "    driver.maximize_window()\n",
    "    driver.get(url)\n",
    "    sleep(5)\n",
    "    \n",
    "    select = driver.find_element(by=By.NAME, value='selFund3')\n",
    "    FUND['fund_code'] = [x.get_attribute('value').split('-')[0] for x in select.find_elements(by=By.TAG_NAME, value='option')]\n",
    "    FUND['fund_name'] = [x.text.split(' ')[1] for x in select.find_elements(by=By.TAG_NAME, value='option')]\n",
    "    \n",
    "    FUND = pd.DataFrame(FUND)\n",
    "    \n",
    "    driver.close()\n",
    "    return FUND"
   ]
  },
  {
   "cell_type": "code",
   "execution_count": 3,
   "id": "d2573d00",
   "metadata": {},
   "outputs": [],
   "source": [
    "def get_NETVALUE(FUND):\n",
    "    NETVALUE = {}\n",
    "    count = 0\n",
    "    \n",
    "    for FUND_idx in tqdm(range(len(FUND))):\n",
    "        url = 'http://fund.hncb.com.tw/w/bcd/BCDNavList.djbcd?a={}&b=0&c=2021-8-1&d=2022-2-28'.format(FUND['fund_code'][FUND_idx])\n",
    "        response = requests.get(url)\n",
    "        data = response.text\n",
    "        \n",
    "        try:\n",
    "        \n",
    "            date = data.split(' ')[0].split(',')\n",
    "            netvalue = data.split(' ')[1].split(',')\n",
    "            assert len(date) == len(netvalue)\n",
    "\n",
    "            for data_idx in range(len(date)):\n",
    "                NETVALUE[count] = {'基金號碼': FUND['fund_code'][FUND_idx], \n",
    "                                   '基金名稱': FUND['fund_name'][FUND_idx], \n",
    "                                   '年月日': date[data_idx], \n",
    "                                   '淨值（美元）': netvalue[data_idx]}\n",
    "                count+=1\n",
    "            sleep(3)\n",
    "\n",
    "        except:\n",
    "            print(FUND_idx)\n",
    "    return NETVALUE"
   ]
  },
  {
   "cell_type": "code",
   "execution_count": 4,
   "id": "c544dc19",
   "metadata": {},
   "outputs": [
    {
     "name": "stdout",
     "output_type": "stream",
     "text": [
      "\n"
     ]
    },
    {
     "name": "stderr",
     "output_type": "stream",
     "text": [
      "[WDM] - ====== WebDriver manager ======\n",
      "[WDM] - Current google-chrome version is 102.0.5005\n",
      "[WDM] - Get LATEST chromedriver version for 102.0.5005 google-chrome\n",
      "[WDM] - Driver [/Users/kasane/.wdm/drivers/chromedriver/mac64/102.0.5005.61/chromedriver] found in cache\n",
      "/Users/kasane/Documents/Master/Class/1-2/Big data application project/env/lib/python3.7/site-packages/ipykernel_launcher.py:5: DeprecationWarning: executable_path has been deprecated, please pass in a Service object\n",
      "  \"\"\"\n",
      "100%|███████████████████████████████████████████| 41/41 [02:10<00:00,  3.18s/it]\n"
     ]
    }
   ],
   "source": [
    "url = 'http://fund.hncb.com.tw/w/wb/wb02.djhtm?a=SBZD7-1207&B=0&C=2021-8-1&D=2022-2-28'\n",
    "\n",
    "FUND = get_FUND(url)\n",
    "NETVALUE = get_NETVALUE(FUND)"
   ]
  },
  {
   "cell_type": "code",
   "execution_count": 5,
   "id": "d1509d2c",
   "metadata": {},
   "outputs": [],
   "source": [
    "data = pd.DataFrame(NETVALUE).T"
   ]
  },
  {
   "cell_type": "code",
   "execution_count": 6,
   "id": "46547463",
   "metadata": {},
   "outputs": [],
   "source": [
    "data.to_excel('../data/瑞銀淨值.xlsx', index=None)"
   ]
  },
  {
   "cell_type": "code",
   "execution_count": 7,
   "id": "c95b3f38",
   "metadata": {},
   "outputs": [],
   "source": [
    "df = pd.read_excel('../data/瑞銀淨值.xlsx')"
   ]
  },
  {
   "cell_type": "code",
   "execution_count": 8,
   "id": "c1cec2f8",
   "metadata": {},
   "outputs": [
    {
     "data": {
      "text/html": [
       "<div>\n",
       "<style scoped>\n",
       "    .dataframe tbody tr th:only-of-type {\n",
       "        vertical-align: middle;\n",
       "    }\n",
       "\n",
       "    .dataframe tbody tr th {\n",
       "        vertical-align: top;\n",
       "    }\n",
       "\n",
       "    .dataframe thead th {\n",
       "        text-align: right;\n",
       "    }\n",
       "</style>\n",
       "<table border=\"1\" class=\"dataframe\">\n",
       "  <thead>\n",
       "    <tr style=\"text-align: right;\">\n",
       "      <th></th>\n",
       "      <th>基金號碼</th>\n",
       "      <th>基金名稱</th>\n",
       "      <th>年月日</th>\n",
       "      <th>淨值（美元）</th>\n",
       "    </tr>\n",
       "  </thead>\n",
       "  <tbody>\n",
       "    <tr>\n",
       "      <th>0</th>\n",
       "      <td>SBZD7</td>\n",
       "      <td>瑞士銀行(瑞士)歐洲機會基金(未申報生效)</td>\n",
       "      <td>20210802</td>\n",
       "      <td>928.01</td>\n",
       "    </tr>\n",
       "    <tr>\n",
       "      <th>1</th>\n",
       "      <td>SBZD7</td>\n",
       "      <td>瑞士銀行(瑞士)歐洲機會基金(未申報生效)</td>\n",
       "      <td>20210803</td>\n",
       "      <td>932.13</td>\n",
       "    </tr>\n",
       "    <tr>\n",
       "      <th>2</th>\n",
       "      <td>SBZD7</td>\n",
       "      <td>瑞士銀行(瑞士)歐洲機會基金(未申報生效)</td>\n",
       "      <td>20210804</td>\n",
       "      <td>937.61</td>\n",
       "    </tr>\n",
       "    <tr>\n",
       "      <th>3</th>\n",
       "      <td>SBZD7</td>\n",
       "      <td>瑞士銀行(瑞士)歐洲機會基金(未申報生效)</td>\n",
       "      <td>20210805</td>\n",
       "      <td>941.86</td>\n",
       "    </tr>\n",
       "    <tr>\n",
       "      <th>4</th>\n",
       "      <td>SBZD7</td>\n",
       "      <td>瑞士銀行(瑞士)歐洲機會基金(未申報生效)</td>\n",
       "      <td>20210806</td>\n",
       "      <td>942.91</td>\n",
       "    </tr>\n",
       "  </tbody>\n",
       "</table>\n",
       "</div>"
      ],
      "text/plain": [
       "    基金號碼                   基金名稱       年月日  淨值（美元）\n",
       "0  SBZD7  瑞士銀行(瑞士)歐洲機會基金(未申報生效)  20210802  928.01\n",
       "1  SBZD7  瑞士銀行(瑞士)歐洲機會基金(未申報生效)  20210803  932.13\n",
       "2  SBZD7  瑞士銀行(瑞士)歐洲機會基金(未申報生效)  20210804  937.61\n",
       "3  SBZD7  瑞士銀行(瑞士)歐洲機會基金(未申報生效)  20210805  941.86\n",
       "4  SBZD7  瑞士銀行(瑞士)歐洲機會基金(未申報生效)  20210806  942.91"
      ]
     },
     "execution_count": 8,
     "metadata": {},
     "output_type": "execute_result"
    }
   ],
   "source": [
    "df.head()"
   ]
  },
  {
   "cell_type": "code",
   "execution_count": null,
   "id": "f97084e8",
   "metadata": {},
   "outputs": [],
   "source": []
  }
 ],
 "metadata": {
  "kernelspec": {
   "display_name": "Python 3 (ipykernel)",
   "language": "python",
   "name": "python3"
  },
  "language_info": {
   "codemirror_mode": {
    "name": "ipython",
    "version": 3
   },
   "file_extension": ".py",
   "mimetype": "text/x-python",
   "name": "python",
   "nbconvert_exporter": "python",
   "pygments_lexer": "ipython3",
   "version": "3.7.9"
  }
 },
 "nbformat": 4,
 "nbformat_minor": 5
}
