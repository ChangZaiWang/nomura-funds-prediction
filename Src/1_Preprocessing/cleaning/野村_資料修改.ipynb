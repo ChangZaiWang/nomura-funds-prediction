{
  "nbformat": 4,
  "nbformat_minor": 0,
  "metadata": {
    "colab": {
      "name": "野村_EDA.ipynb",
      "provenance": [],
      "collapsed_sections": []
    },
    "kernelspec": {
      "name": "python3",
      "display_name": "Python 3"
    },
    "language_info": {
      "name": "python"
    }
  },
  "cells": [
    {
      "cell_type": "markdown",
      "source": [
        "步驟1(變動基金名稱)"
      ],
      "metadata": {
        "id": "vQ3_WZBTz3Px"
      }
    },
    {
      "cell_type": "code",
      "execution_count": null,
      "metadata": {
        "id": "vpCNl_hz4mu3"
      },
      "outputs": [],
      "source": [
        "!pip install pandas"
      ]
    },
    {
      "cell_type": "code",
      "source": [
        "#變動目標：b.申購贖回資料.xlsx\n",
        "import pandas as pd\n",
        " \n",
        "df = pd.read_excel(\"b.申購贖回資料.xlsx\")\n",
        "#資料已先以使用者排序，再以日期排序\n",
        "\n",
        "#b.新版_申購贖回資料.xlsx\n",
        "number=df['虛擬編號']\n",
        "funds=df['申購基金'] \n",
        "money=df[' TWD_ALLOT_AMT ']"
      ],
      "metadata": {
        "id": "0CDzRSGW4xbr"
      },
      "execution_count": null,
      "outputs": []
    },
    {
      "cell_type": "code",
      "source": [
        "#變動目標：b.修改完成_金融科技_Red.xlsx/b.修改完成_金融科技_Sub.xlsx\n",
        "import pandas as pd\n",
        " \n",
        "df = pd.read_excel(\"活頁簿1.xlsx\")\n",
        "number=df['虛擬編號']\n",
        "funds=df['申購基金'] \n",
        "print(len(number))"
      ],
      "metadata": {
        "id": "5GiSz9F2CXmO"
      },
      "execution_count": null,
      "outputs": []
    },
    {
      "cell_type": "code",
      "source": [
        "#調整所有的基金名稱(如：將A基金(台幣)變成A基金)\n",
        "def rename(orifund):\n",
        "  if 'X' in orifund:\n",
        "    clean=orifund.split('X')\n",
        "    return clean[0]\n",
        "  elif 'A' in orifund:\n",
        "    clean=orifund.split('A')\n",
        "    return clean[0]\n",
        "  elif 'C' in orifund:\n",
        "    clean=orifund.split('C')\n",
        "    return clean[0]\n",
        "  elif '股票' in orifund:\n",
        "    clean=orifund.split('股票')\n",
        "    return clean[0]+'股票'\n",
        "  elif '基金' in orifund:\n",
        "    last=orifund.rfind('基金')\n",
        "    clean=orifund[0:last]+'基金'\n",
        "    return clean\n",
        "  else:\n",
        "    print('尚待手動確認：',orifund)\n",
        "    return orifund"
      ],
      "metadata": {
        "id": "72WaPr7uckyd"
      },
      "execution_count": null,
      "outputs": []
    },
    {
      "cell_type": "code",
      "source": [
        "assets={}\n",
        "wrong={}\n",
        "\n",
        "import csv\n",
        "with open('redonly.csv', 'w', newline='', encoding='utf-8-sig') as csvfile:\n",
        "  writer = csv.writer(csvfile)\n",
        "  for i in range(0,len(number),1):\n",
        "    #print(number[i])\n",
        "    newname=rename(funds[i])\n",
        "    if newname:\n",
        "      funds[i]=newname\n",
        "      assets['a'+str(number[i])]=funds[i]\n",
        "    else:\n",
        "      wrong['a'+str(number[i])]=funds[i]\n",
        "    #print(assets['a'+str(number[i])])\n",
        "    writer.writerow(['a'+str(number[i]),assets['a'+str(number[i])]])\n"
      ],
      "metadata": {
        "id": "IbLf4M0c8Hy1"
      },
      "execution_count": null,
      "outputs": []
    },
    {
      "cell_type": "markdown",
      "source": [
        "步驟2(計算會員的資產)"
      ],
      "metadata": {
        "id": "wYQ7Ab7YSjgY"
      }
    },
    {
      "cell_type": "code",
      "source": [
        "buytype=df['方法'] \n",
        "people=[]\n",
        "market={}\n",
        "people.append(number[0])\n",
        "assets['a'+str(number[0])]=0\n",
        "change=0\n",
        "\n",
        "for i in range(0,len(number),1):\n",
        "  if number[i]!=people[-1]:\n",
        "    people.append(number[i])\n",
        "    market['a'+str(number[i-1])]=assets['a'+str(number[i-1])]\n",
        "    assets['a'+str(number[i])]=0 \n",
        "\n",
        "  if buytype[i]==\"申購\":\n",
        "    assets['a'+str(number[i])]+=money[i]\n",
        "  else:\n",
        "    if 'a'+str(number[i]) in assets.keys():\n",
        "      assets['a'+str(number[i])]-=-money[i] #申購贖回都有(申購-贖回)\n",
        "    else:\n",
        "      #這個名稱的基金僅有贖回\n",
        "      assets['a'+str(number[i])]=0 #新增一筆申購資料\n",
        "      change+=1\n",
        "\n",
        "market['a'+str(number[len(number)-1])]=assets['a'+str(number[len(number)-1])]\n",
        "\n",
        "print(f'缺少申購的資料：%d' %change)\n",
        "\n",
        "import csv\n",
        "with open('redonly.csv', 'w', newline='', encoding='utf-8-sig') as csvfile:\n",
        "  writer = csv.writer(csvfile)\n",
        "  for i in market.items():\n",
        "    writer.writerow([i])"
      ],
      "metadata": {
        "id": "V7OOLsrACTtz"
      },
      "execution_count": null,
      "outputs": []
    },
    {
      "cell_type": "markdown",
      "source": [
        "步驟2(配置資產)"
      ],
      "metadata": {
        "id": "CpdQBXG5R69t"
      }
    },
    {
      "cell_type": "code",
      "source": [
        "#c.客戶資產_基金淨值.xlsx\n",
        "\n",
        "import pandas as pd\n",
        "\n",
        "df2 = pd.read_excel(\"c.客戶資產_基金淨值.xlsx\")\n",
        "#資料已先以使用者排序，資產等級皆為空值\n",
        "\n",
        "number2=df2['虛擬編號']\n"
      ],
      "metadata": {
        "id": "pcgY-PUVwLOx"
      },
      "execution_count": null,
      "outputs": []
    },
    {
      "cell_type": "code",
      "source": [
        "import csv\n",
        "\n",
        "asset2={}\n",
        "with open('redonly.csv', 'w', newline='', encoding='utf-8-sig') as csvfile:\n",
        "  writer = csv.writer(csvfile)\n",
        "  for i in range(0,len(market),1):\n",
        "    if int(market['a'+str(people[i])]) >899999:\n",
        "      asset2['a'+str(number2[i])]='超高資產'\n",
        "\n",
        "    elif int(market['a'+str(people[i])]) >299999:\n",
        "      asset2['a'+str(number2[i])]='高資產'\n",
        "\n",
        "    elif int(market['a'+str(people[i])]) >99999:\n",
        "      asset2['a'+str(number2[i])]='中資產'\n",
        "\n",
        "    else:\n",
        "      asset2['a'+str(number2[i])]='低資產'\n",
        "\n",
        "  for i in range(0,len(asset2),1):\n",
        "    writer.writerow(['a'+str(number2[i]),asset2['a'+str(number2[i])]])"
      ],
      "metadata": {
        "id": "4KALt1YDTQt-"
      },
      "execution_count": null,
      "outputs": []
    },
    {
      "cell_type": "markdown",
      "source": [
        "步驟3. 修改申購檔/贖回檔的資料"
      ],
      "metadata": {
        "id": "2LKizk4-go4c"
      }
    },
    {
      "cell_type": "code",
      "source": [
        "#c.客戶資產_基金淨值.xlsx\n",
        "\n",
        "import pandas as pd\n",
        "\n",
        "df2 = pd.read_excel(\"c.客戶資產_基金淨值.xlsx\")\n",
        "#資料已先以使用者排序，資產等級皆為空值\n",
        "\n",
        "number2=df2['虛擬編號']\n",
        "asset=df2['資產等級']"
      ],
      "metadata": {
        "id": "iJbVK2csYOdY"
      },
      "execution_count": null,
      "outputs": []
    },
    {
      "cell_type": "code",
      "source": [
        "asset2={}\n",
        "for i in range(0,len(number2),1):\n",
        "  asset2['a'+str(number2[i])]=asset[i]"
      ],
      "metadata": {
        "id": "whttYKHTZL2i"
      },
      "execution_count": null,
      "outputs": []
    },
    {
      "cell_type": "code",
      "source": [
        "#變動目標：b.修改完成_金融科技_Red.xlsx(贖回)/b.修改完成_金融科技_Sub.xlsx(申購)\n",
        "import pandas as pd\n",
        "import csv\n",
        " \n",
        "df = pd.read_excel(\"活頁簿1.xlsx\")\n",
        "number=df['虛擬編號']\n",
        "\n",
        "with open('redonly.csv', 'w', newline='', encoding='utf-8-sig') as csvfile:\n",
        "  writer = csv.writer(csvfile)\n",
        "  #asset2['a512601']='中資產' #程式bug\n",
        "  for i in range(0,len(number),1):\n",
        "    writer.writerow(['a'+str(number[i]),asset2['a'+str(number[i])]])"
      ],
      "metadata": {
        "id": "LfWE-n-kdbH3"
      },
      "execution_count": null,
      "outputs": []
    },
    {
      "cell_type": "markdown",
      "source": [
        "單次使用"
      ],
      "metadata": {
        "id": "wf5joPYOscoF"
      }
    },
    {
      "cell_type": "code",
      "source": [
        "#不重複的基金名稱寫入csv\n",
        "import csv\n",
        "with open('redonly.csv', 'w', newline='', encoding='utf-8-sig') as csvfile:\n",
        "  writer = csv.writer(csvfile)\n",
        "  for i in fund:\n",
        "    writer.writerow([i])\n",
        "  for i in fundall:\n",
        "    writer.writerow([i])\n"
      ],
      "metadata": {
        "id": "ZxO34ftIPqx7"
      },
      "execution_count": null,
      "outputs": []
    }
  ]
}