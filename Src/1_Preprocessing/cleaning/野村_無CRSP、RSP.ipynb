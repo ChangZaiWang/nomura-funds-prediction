{
  "nbformat": 4,
  "nbformat_minor": 0,
  "metadata": {
    "colab": {
      "name": "野村_無CRSP、RSP",
      "provenance": [],
      "collapsed_sections": []
    },
    "kernelspec": {
      "name": "python3",
      "display_name": "Python 3"
    },
    "language_info": {
      "name": "python"
    }
  },
  "cells": [
    {
      "cell_type": "markdown",
      "source": [
        "原始資料：修改完成_金融科技_Red"
      ],
      "metadata": {
        "id": "2LKizk4-go4c"
      }
    },
    {
      "cell_type": "code",
      "source": [
        "#將各交易依資產分類\n",
        "def assets(type,level,index,fund):\n",
        "  if type == 'R':\n",
        "    if level == '超高資產':\n",
        "      try:\n",
        "        R_highest[index]+=\",\"+fund\n",
        "      except:\n",
        "        R_highest[index]=fund\n",
        "    elif level == '高資產':\n",
        "      try:\n",
        "        R_high[index]+=\",\"+fund\n",
        "      except:\n",
        "        R_high[index]=fund\n",
        "    elif level == '中資產':\n",
        "      try:\n",
        "        R_middle[index]+=\",\"+fund\n",
        "      except:\n",
        "        R_middle[index]=fund\n",
        "    else:\n",
        "      try:\n",
        "        R_low[index]+=\",\"+fund\n",
        "      except:\n",
        "        R_low[index]=fund\n",
        "  else:\n",
        "    if level == '超高資產':\n",
        "      try:\n",
        "        S_highest[index]+=\",\"+fund\n",
        "      except:\n",
        "        S_highest[index]=fund\n",
        "    elif level == '高資產':\n",
        "      try:\n",
        "        S_high[index]+=\",\"+fund\n",
        "      except:\n",
        "        S_high[index]=fund\n",
        "    elif level == '中資產':\n",
        "      try:\n",
        "        S_middle[index]+=\",\"+fund\n",
        "      except:\n",
        "        S_middle[index]=fund\n",
        "    else:\n",
        "      try:\n",
        "        S_low[index]+=\",\"+fund\n",
        "      except:\n",
        "        S_low[index]=fund"
      ],
      "metadata": {
        "id": "WX5CjbQqSHNA"
      },
      "execution_count": null,
      "outputs": []
    },
    {
      "cell_type": "markdown",
      "source": [
        "主要"
      ],
      "metadata": {
        "id": "QqQjkfYZh5Ae"
      }
    },
    {
      "cell_type": "code",
      "source": [
        "import pandas as pd\n",
        "#依資產等級、基金名稱、日期排序\n",
        "\n",
        "S_df = pd.read_excel(\"b.新_金融科技_Sub.xlsx\")\n",
        "print(S_df.columns)\n",
        "S_datas=S_df.to_dict('records')\n",
        "\n",
        "S_low={}\n",
        "S_middle={}\n",
        "S_high={}\n",
        "S_highest={}\n",
        "Sfunds={}\n",
        "record={}\n",
        "money=0\n",
        "now=''\n",
        "first=True\n",
        "\n",
        "for row in S_datas:\n",
        "  if row['TRADE_TYPE'] == 'CRSP' or 'RSP' in row['TRADE_TYPE']:\n",
        "    continue\n",
        "  else:\n",
        "    #format_data(\"S\",row['申購基金'],row['ALLOT_DATE2'])\n",
        "    assets(\"S\",row['資產等級'],\"a\"+str(row['申購流水號']),row['申購基金'])\n",
        "\n",
        "  day=str(row['ALLOT_DATE2']).split(' ')[0]\n",
        "\n",
        "  if row['申購基金'] in record.keys():\n",
        "    if now != day:\n",
        "      Sfunds[row['申購基金']]+=','+str(day)+':'+str(money) #單日總申購金額(正確)\n",
        "      first=True\n",
        "      money=row['TWD_ALLOT_AMT']\n",
        "    else:\n",
        "      money+=row['TWD_ALLOT_AMT']\n",
        "  else:\n",
        "    first=True\n",
        "    if first:\n",
        "      k=row['申購基金']\n",
        "      Sfunds[row['申購基金']]=str(day)+':'+str(money) #單日總申購金額\n",
        "    record[row['申購基金']]=''\n",
        "    money=row['TWD_ALLOT_AMT']\n",
        "    now=day\n",
        "    first=False\n"
      ],
      "metadata": {
        "colab": {
          "base_uri": "https://localhost:8080/"
        },
        "id": "GvdMnkCAiL4u",
        "outputId": "4216905b-557a-4323-f7be-d6de79f880a2"
      },
      "execution_count": null,
      "outputs": [
        {
          "output_type": "stream",
          "name": "stdout",
          "text": [
            "Index(['Unnamed: 0', '申購流水號', 'SYSTEM_ID', 'ALLOT_DATE2', '虛擬編號', '資產等級',\n",
            "       '基金公司', '申購基金', 'CRNCY_CD', 'TRADE_TYPE', 'TWD_ALLOT_AMT'],\n",
            "      dtype='object')\n"
          ]
        }
      ]
    },
    {
      "cell_type": "code",
      "source": [
        "Rfunds['(未核備) 荷寶資本成長基金-荷寶中國股票']\n",
        "R_df.loc[S_df['申購流水號'] ==14199]\n",
        "S_df['申購流水號']"
      ],
      "metadata": {
        "colab": {
          "base_uri": "https://localhost:8080/"
        },
        "id": "TEx493IdW6_c",
        "outputId": "abc2455b-4b0a-489e-ea35-6e6e4dfb63ff"
      },
      "execution_count": null,
      "outputs": [
        {
          "output_type": "execute_result",
          "data": {
            "text/plain": [
              "0           1267\n",
              "1          64738\n",
              "2         126771\n",
              "3         239252\n",
              "4         315728\n",
              "           ...  \n",
              "385428    256543\n",
              "385429    266447\n",
              "385430    336511\n",
              "385431    330743\n",
              "385432    330744\n",
              "Name: 申購流水號, Length: 385433, dtype: int64"
            ]
          },
          "metadata": {},
          "execution_count": 64
        }
      ]
    },
    {
      "cell_type": "code",
      "source": [
        "import pandas as pd\n",
        "#依資產等級、基金名稱、日期排序\n",
        "\n",
        "R_df = pd.read_excel(\"b.新_金融科技_Red.xlsx\")\n",
        "R_df = R_df.astype({'ALLOT_DATE2':'string'}) \n",
        "R_datas=R_df.to_dict('records')\n",
        "R_low={}\n",
        "R_middle={}\n",
        "R_high={}\n",
        "R_highest={}\n",
        "Rfunds={}\n",
        "record={}\n",
        "money=0\n",
        "now=''\n",
        "first=True\n",
        "\n",
        "for row in R_datas:\n",
        "\n",
        "  if row['TRADE_TYPE'] == 'CRSP' or 'RSP' in  row['TRADE_TYPE']:\n",
        "    continue\n",
        "  else:\n",
        "    assets(\"R\",row['資產等級'],\"a\"+str(row['申購流水號']),row['申購基金'])\n",
        "    \n",
        "  day=str(row['ALLOT_DATE2']).split(' ')[0]\n",
        "\n",
        "  if row['申購基金'] in record.keys():\n",
        "    if now != day:\n",
        "      Rfunds[row['申購基金']]+=','+str(day)+':'+str(money) #單日總申購金額(正確)\n",
        "      first=True\n",
        "      money=row['TWD_ALLOT_AMT']\n",
        "    else:\n",
        "      money+=row['TWD_ALLOT_AMT']\n",
        "  else:\n",
        "    first=True\n",
        "    if first:\n",
        "      Rfunds[row['申購基金']]=str(day)+':'+str(money) #單日總申購金額\n",
        "    record[row['申購基金']]=''\n",
        "    money=row['TWD_ALLOT_AMT']\n",
        "    now=day\n",
        "    first=False"
      ],
      "metadata": {
        "id": "iJbVK2csYOdY"
      },
      "execution_count": null,
      "outputs": []
    },
    {
      "cell_type": "code",
      "source": [
        "#將資料寫入csv\n",
        "import csv\n",
        "\n",
        "def new_csv(type,date,fund,dmoney):\n",
        "  with open(type+'_總交易檔.csv', 'a', newline='', encoding='utf-8-sig') as csvfile:\n",
        "    writer = csv.writer(csvfile)\n",
        "    writer.writerow([date,fund,dmoney])\n",
        "\n",
        "def start():\n",
        "  with open('超高資產_總交易檔.csv', 'w', newline='', encoding='utf-8-sig') as csvfile:\n",
        "    writer = csv.writer(csvfile)\n",
        "    writer.writerow(['ALLOT_DATE','Fund_Name','ALLOT_AMT'])\n",
        "  with open('高資產_總交易檔.csv', 'w', newline='', encoding='utf-8-sig') as csvfile:\n",
        "    writer = csv.writer(csvfile)\n",
        "    writer.writerow(['ALLOT_DATE','Fund_Name','ALLOT_AMT'])\n",
        "  with open('中資產_總交易檔.csv', 'w', newline='', encoding='utf-8-sig') as csvfile:\n",
        "    writer = csv.writer(csvfile)\n",
        "    writer.writerow(['ALLOT_DATE','Fund_Name','ALLOT_AMT'])\n",
        "  with open('低資產_總交易檔.csv', 'w', newline='', encoding='utf-8-sig') as csvfile:\n",
        "    writer = csv.writer(csvfile)\n",
        "    writer.writerow(['ALLOT_DATE','Fund_Name','ALLOT_AMT'])\n"
      ],
      "metadata": {
        "id": "ATjciloL0KR0"
      },
      "execution_count": null,
      "outputs": []
    },
    {
      "cell_type": "code",
      "source": [
        "#找該基金名稱的所有資料\n",
        "new_highest={}\n",
        "new_high={}\n",
        "new_middle={}\n",
        "new_low={}\n",
        "\n",
        "def clean(data):\n",
        "  all={}\n",
        "  for i in data:\n",
        "    date,money=i.split(':')\n",
        "    try:\n",
        "      all[date]+=int(money)\n",
        "    except:\n",
        "      all[date]=int(money)\n",
        "  return all\n",
        "\n",
        "\n",
        "def new_asset(type,index,fund):\n",
        "\n",
        "  if Sfunds.get(fund): #目標基金名稱有申購紀錄\n",
        "    if Rfunds.get(fund):\n",
        "      Sday=Sfunds[fund].split(',') #申購日期:當天金額,申購日期:當天金額\n",
        "      Rday=Rfunds[fund].split(',') #贖回日期:當天金額,贖回日期:當天金額\n",
        "    if Rfunds.get(fund):\n",
        "      NSday=Sfunds[fund].split(',') #申購日期:當天金額,申購日期:當天金額\n",
        "      NRday=Rfunds[fund].split(',') #贖回日期:當天金額,贖回日期:當天金額\n",
        "      Sday=clean(NSday)\n",
        "      Rday=clean(NRday)\n",
        "      for Sdate in Sday.keys():\n",
        "        sold=False\n",
        "        buy_all=Sday[Sdate] #申購日期=xxx,當天金額=ooo\n",
        "        for Rdate in Rday.keys():\n",
        "          if Sdate == Rdate: #申購-贖回\n",
        "            sold=True\n",
        "            sell_all=Rday[Rdate]\n",
        "            dmoney=int(buy_all)-sell_all\n",
        "            break\n",
        "        if not sold:\n",
        "          dmoney=buy_all\n",
        "        #print(type,Sdate,fund,dmoney)\n",
        "        new_csv(type,Sdate,fund,dmoney)\n",
        "\n",
        "  else:\n",
        "    NRday=Rfunds[fund].split(',') #贖回日期:當天金額,贖回日期:當天金額\n",
        "    Rday=clean(NRday)\n",
        "    for Rdate in Rday.keys():\n",
        "      sell_all=Rday[Rdate]\n",
        "      dmoney=0-int(sell_all)\n",
        "      new_csv(type,Rdate,fund,dmoney)\n",
        "\n",
        "start()\n",
        "'''\n",
        "print(f'高資產進行中')\n",
        "\n",
        "for funds in R_high:\n",
        "  #print(f'高資產｜{R_high[index]}進行中')\n",
        "  fund=funds.split(',')\n",
        "  for index in fund:\n",
        "    #print(index,R_high[funds])\n",
        "    new_asset('高資產',index,R_high[funds])\n",
        "\n",
        " \n",
        "print(f'中資產進行中')\n",
        "for funds in R_middle:\n",
        "  fund=funds.split(',')\n",
        "  #print(f'高資產｜{R_high[index]}進行中')\n",
        "  for index in fund:\n",
        "    new_asset('中資產',index,R_middle[funds])\n",
        "\n",
        "print(f'低資產進行中')\n",
        "for funds in R_low:\n",
        "  fund=funds.split(',')\n",
        "  #print('低資產｜{R_low[index]}進行中')\n",
        "  for index in fund:\n",
        "    new_asset('低資產',index,R_low[funds])\n",
        "''' \n",
        "print(f'超高資產進行中')\n",
        "for funds in R_highest:\n",
        "  #print(funds)\n",
        "  fund=funds.split(',')\n",
        "  #print(fund)\n",
        "  for index in fund:\n",
        "    #print(index)\n",
        "    new_asset('超高資產',index,R_highest[funds])\n"
      ],
      "metadata": {
        "id": "Hs5dCssMPF4X",
        "colab": {
          "base_uri": "https://localhost:8080/"
        },
        "outputId": "3b8341ed-9acd-43ab-fded-47b4a51eb821"
      },
      "execution_count": null,
      "outputs": [
        {
          "output_type": "stream",
          "name": "stdout",
          "text": [
            "超高資產進行中\n"
          ]
        }
      ]
    }
  ]
}