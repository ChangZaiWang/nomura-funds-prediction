{
  "cells": [
    {
      "cell_type": "markdown",
      "metadata": {
        "id": "szVKRRzEad9D"
      },
      "source": [
        "###讀取資料"
      ]
    },
    {
      "cell_type": "code",
      "execution_count": 1,
      "metadata": {
        "colab": {
          "base_uri": "https://localhost:8080/"
        },
        "id": "kzKjRULS5qKi",
        "outputId": "9e14850c-6a1a-4243-ee4f-9d51346ab426"
      },
      "outputs": [
        {
          "output_type": "stream",
          "name": "stdout",
          "text": [
            "Mounted at /content/drive\n"
          ]
        }
      ],
      "source": [
        "from google.colab import drive\n",
        "drive.mount('/content/drive')"
      ]
    },
    {
      "cell_type": "code",
      "execution_count": 12,
      "metadata": {
        "id": "VYmq-qTP5vOW"
      },
      "outputs": [],
      "source": [
        "import pandas as pd\n",
        "##新聞、dcard、ptt 段詞結果\n",
        "dcard_WS=pd.read_excel(\"/content/drive/MyDrive/大學/雲端-野村投信/斷詞完畢/dcard_WS.xlsx\")\n",
        "headline=pd.read_excel(\"/content/drive/MyDrive/大學/雲端-野村投信/斷詞完畢/headline.xlsx\")\n",
        "ptt_WS=pd.read_excel(\"/content/drive/MyDrive/大學/雲端-野村投信/斷詞完畢/ptt_WS.xlsx\")\n",
        "wdstock=pd.read_csv(\"/content/drive/MyDrive/大學/雲端-野村投信/斷詞完畢/wdstock.csv\")\n",
        "\n",
        "##持股整理後資料\n",
        "nnl=pd.read_excel(\"/content/drive/MyDrive/大學/雲端-野村投信/野村持股(修改版)/NN (L)_修改版.xlsx\")\n",
        "abran=pd.read_excel(\"/content/drive/MyDrive/大學/雲端-野村投信/野村持股(修改版)/安本標準_修改版.xlsx\")\n",
        "ninetyone=pd.read_excel(\"/content/drive/MyDrive/大學/雲端-野村投信/野村持股(修改版)/晉達_修改版.xlsx\")\n",
        "ubsag=pd.read_excel(\"/content/drive/MyDrive/大學/雲端-野村投信/野村持股(修改版)/瑞銀_修改版.xlsx\")\n",
        "roboco=pd.read_excel(\"/content/drive/MyDrive/大學/雲端-野村投信/野村持股(修改版)/荷寶_修改版.xlsx\")\n",
        "ireland=pd.read_excel(\"/content/drive/MyDrive/大學/雲端-野村投信/野村持股(修改版)/野村基金(愛爾蘭系列)_修改版.xlsx\")\n",
        "nomura=pd.read_excel(\"/content/drive/MyDrive/大學/雲端-野村投信/野村持股(修改版)/野村投信_修改版.xlsx\")\n",
        "amundi=pd.read_excel(\"/content/drive/MyDrive/大學/雲端-野村投信/野村持股(修改版)/鋒裕匯理_修改版.xlsx\")\n",
        "janus=pd.read_excel(\"/content/drive/MyDrive/大學/雲端-野村投信/野村持股(修改版)/駿利亨德森_修改版.xlsx\")\n",
        "\n",
        "##情緒字典\n",
        "moods=pd.read_excel(\"/content/drive/MyDrive/大學/雲端-野村投信/情緒字典_輸入程式.xlsx\")"
      ]
    },
    {
      "cell_type": "code",
      "source": [
        "import pandas as pd\n",
        "\n",
        "nnl=pd.read_excel(\"/content/drive/MyDrive/大學/雲端-野村投信/野村持股(修改版)/NN (L)_修改版.xlsx\")"
      ],
      "metadata": {
        "id": "-PeutfzundHr"
      },
      "execution_count": 3,
      "outputs": []
    },
    {
      "cell_type": "code",
      "execution_count": 6,
      "metadata": {
        "id": "5lARrLXLbcxm"
      },
      "outputs": [],
      "source": [
        "##將欄位名稱更改為一致\n",
        "dcard_WS.rename(columns={'time': 'publishAt','content': 'CONTENT_CKIP'}, inplace=True)\n",
        "ptt_WS.rename(columns={'time': 'publishAt','content': 'CONTENT_CKIP'}, inplace=True)"
      ]
    },
    {
      "cell_type": "markdown",
      "metadata": {
        "id": "Tf9sJUf4aky5"
      },
      "source": [
        "###取出持股關鍵字之新聞"
      ]
    },
    {
      "cell_type": "code",
      "execution_count": 9,
      "metadata": {
        "id": "qk81lLZrL6l_"
      },
      "outputs": [],
      "source": [
        "## 取出提到持股關鍵字新聞資料\n",
        "## company 為持股資料\n",
        "def headline_organize(company):\n",
        "  pd.options.mode.chained_assignment = None  # default='warn'\n",
        "  company_headline=pd.DataFrame()\n",
        "  company_dcard=pd.DataFrame()\n",
        "  company_ptt=pd.DataFrame()\n",
        "  company_stock=pd.DataFrame()\n",
        "\n",
        "  for j in range(len(company)):\n",
        "    for i in company.loc[j].unique():\n",
        "      if type(i)!=float:\n",
        "        #headline\n",
        "        data_headline=headline[headline['CONTENT'].str.lower().str.contains(i.lower())]\n",
        "        data_headline['fund']=company.loc[j]['fund']\n",
        "        company_headline=company_headline.append(data_headline)\n",
        "        #dcard\n",
        "        data_dcard=dcard_WS[dcard_WS['CONTENT_CKIP'].str.lower().str.contains(i.lower())]\n",
        "        data_dcard['fund']=company.loc[j]['fund']\n",
        "        company_dcard=company_dcard.append(data_dcard)\n",
        "        #ptt\n",
        "        data_ptt=ptt_WS[ptt_WS['CONTENT_CKIP'].str.lower().str.contains(i.lower())]\n",
        "        data_ptt['fund']=company.loc[j]['fund']\n",
        "        company_ptt=company_ptt.append(data_ptt)\n",
        "        #stock\n",
        "        data_stock=headline[headline['CONTENT'].str.lower().str.contains(i.lower())]\n",
        "        data_stock['fund']=company.loc[j]['fund']\n",
        "        company_stock=company_stock.append(data_stock)\n",
        "  \n",
        "  ##合併所有新聞及論壇至同個檔案\n",
        "  df1 = pd.DataFrame({'publishAt': company_headline['publishAt'],\n",
        "            'CONTENT_CKIP': company_headline['CONTENT_CKIP'],\n",
        "            'fund': company_headline['fund']})\n",
        "  df2 = pd.DataFrame({'publishAt': company_dcard['publishAt'],\n",
        "              'CONTENT_CKIP': company_dcard['CONTENT_CKIP'],\n",
        "              'fund': company_dcard['fund']})\n",
        "  df3 = pd.DataFrame({'publishAt': company_ptt['publishAt'],\n",
        "              'CONTENT_CKIP': company_ptt['CONTENT_CKIP'],\n",
        "              'fund': company_ptt['fund']})\n",
        "  df4 = pd.DataFrame({'publishAt': company_stock['publishAt'],\n",
        "              'CONTENT_CKIP': company_stock['CONTENT_CKIP'],\n",
        "              'fund': company_stock['fund']})\n",
        "  frames = [df1, df2, df3, df4]\n",
        "  company_all_news = pd.concat(frames)\n",
        "  company_all_news.drop_duplicates(inplace = True) ## 重複的去除\n",
        "  return company_all_news"
      ]
    },
    {
      "cell_type": "code",
      "execution_count": 8,
      "metadata": {
        "colab": {
          "base_uri": "https://localhost:8080/"
        },
        "id": "v5eY9nP7NvIK",
        "outputId": "88928b37-154d-45bf-db3b-dcda478a3406"
      },
      "outputs": [
        {
          "output_type": "stream",
          "name": "stderr",
          "text": [
            "/usr/local/lib/python3.7/dist-packages/ipykernel_launcher.py:14: UserWarning: This pattern has match groups. To actually get the groups, use str.extract.\n",
            "  \n",
            "/usr/local/lib/python3.7/dist-packages/ipykernel_launcher.py:18: UserWarning: This pattern has match groups. To actually get the groups, use str.extract.\n",
            "/usr/local/lib/python3.7/dist-packages/ipykernel_launcher.py:22: UserWarning: This pattern has match groups. To actually get the groups, use str.extract.\n",
            "/usr/local/lib/python3.7/dist-packages/ipykernel_launcher.py:26: UserWarning: This pattern has match groups. To actually get the groups, use str.extract.\n"
          ]
        }
      ],
      "source": [
        "nnl_news=headline_organize(nnl)\n",
        "# abran_news=headline_organize(abran)\n",
        "# ninetyone_news=headline_organize(ninetyone)\n",
        "# ubsag_news=headline_organize(ubsag)\n",
        "# roboco_news=headline_organize(roboco)\n",
        "# ireland_news=headline_organize(ireland)\n",
        "# nomura_news=headline_organize(nomura)\n",
        "# amundi_news=headline_organize(amundi)\n",
        "# janus_news=headline_organize(janus)"
      ]
    },
    {
      "cell_type": "markdown",
      "metadata": {
        "id": "7Sd2TCGvauX-"
      },
      "source": [
        "###情緒分析"
      ]
    },
    {
      "cell_type": "code",
      "execution_count": 13,
      "metadata": {
        "id": "Wf_sgt3ZQmeD"
      },
      "outputs": [],
      "source": [
        "## 情緒字典\n",
        "words=moods.values.tolist()\n",
        "positive_words = []\n",
        "negative_words = []\n",
        "for i in words:\n",
        "  if i[0]=='正向(中)' or i[0]=='正向(英)':\n",
        "    positive_words.append(i[1])\n",
        "  else:\n",
        "    negative_words.append(i[1])"
      ]
    },
    {
      "cell_type": "code",
      "execution_count": 14,
      "metadata": {
        "id": "vBCwoJWLCOx8"
      },
      "outputs": [],
      "source": [
        "## 情緒分析\n",
        "## company_news 為上方得到的持股相關新聞資料\n",
        "def News_Sentiment(company_news):\n",
        "  c=0\n",
        "  try:\n",
        "    company_news.insert(3,'positive',0, allow_duplicates=False)\n",
        "    company_news.insert(4,'negative',0, allow_duplicates=False)\n",
        "  except:\n",
        "    pass\n",
        "  for i in company_news['CONTENT_CKIP']:\n",
        "    words=eval(i)\n",
        "    positive = 0\n",
        "    negative = 0\n",
        "    for word in words:\n",
        "      if word in positive_words:\n",
        "        positive += 1\n",
        "      elif word in negative_words:\n",
        "        negative += 1\n",
        "      else:\n",
        "        pass\n",
        "    \n",
        "    ## 將正負向加入至表格中\n",
        "    company_news['positive'][c]=positive\n",
        "    company_news['negative'][c]=negative\n",
        "    if c<len(company_news):\n",
        "      c+=1\n",
        "  company_news.reset_index(inplace=True)"
      ]
    },
    {
      "cell_type": "code",
      "execution_count": 15,
      "metadata": {
        "id": "CBxcf9bGDD9D"
      },
      "outputs": [],
      "source": [
        "News_Sentiment(nnl_news)\n",
        "News_Sentiment(abran_news)\n",
        "News_Sentiment(ninetyone_news)\n",
        "News_Sentiment(ubsag_news)\n",
        "News_Sentiment(roboco_news)\n",
        "News_Sentiment(ireland_news)\n",
        "News_Sentiment(nomura_news)\n",
        "News_Sentiment(amundi_news)\n",
        "News_Sentiment(janus_news)"
      ]
    },
    {
      "cell_type": "code",
      "execution_count": null,
      "metadata": {
        "id": "1qeuNcHTGZ9S"
      },
      "outputs": [],
      "source": [
        "nnl_news.to_csv('/content/drive/MyDrive/大學/雲端-野村投信/情緒分析/NN(L)_情緒版.csv',encoding='utf-8', index=False)\n",
        "abran_news.to_csv('/content/drive/MyDrive/大學/雲端-野村投信/情緒分析/安本標準_情緒版.csv',encoding='utf-8', index=False)\n",
        "ninetyone_news.to_csv('/content/drive/MyDrive/大學/雲端-野村投信/情緒分析/晉達_情緒版.csv',encoding='utf-8', index=False)\n",
        "ubsag_news.to_csv('/content/drive/MyDrive/大學/雲端-野村投信/情緒分析/瑞銀_情緒版.csv',encoding='utf-8', index=False)\n",
        "roboco_news.to_csv('/content/drive/MyDrive/大學/雲端-野村投信/情緒分析/荷寶_情緒版.csv',encoding='utf-8', index=False)\n",
        "ireland_news.to_csv('/content/drive/MyDrive/大學/雲端-野村投信/情緒分析/野村基金(愛爾蘭系列)_情緒版.csv',encoding='utf-8', index=False)\n",
        "nomura_news.to_csv('/content/drive/MyDrive/大學/雲端-野村投信/情緒分析/野村投信_情緒版.csv',encoding='utf-8', index=False)\n",
        "amundi_news.to_csv('/content/drive/MyDrive/大學/雲端-野村投信/情緒分析/鋒裕匯理_情緒版.csv',encoding='utf-8', index=False)\n",
        "janus_news.to_csv('/content/drive/MyDrive/大學/雲端-野村投信/情緒分析/駿利亨德森_情緒版.csv',encoding='utf-8', index=False)"
      ]
    },
    {
      "cell_type": "markdown",
      "source": [
        "### 以日期跟基金名稱算總情緒分數"
      ],
      "metadata": {
        "id": "WQdhpqAuo1ZT"
      }
    },
    {
      "cell_type": "code",
      "source": [
        "def result(company_news):\n",
        "  import numpy as np\n",
        "  from datetime import datetime\n",
        "\n",
        "  dates = pd.to_datetime(company_news['publishAt'], format='%Y%m%d %H:%M:%S')\n",
        "  company_news['publishAt']=dates.dt.strftime('%Y-%m-%d')\n",
        "\n",
        "  company_final=pd.DataFrame({'publishAt':company_news['publishAt'],\n",
        "              'fund':company_news['fund'],\n",
        "              'positive':company_news['positive'],\n",
        "              'negative':company_news['negative']})\n",
        "  company_data=company_final.groupby(['fund','publishAt']).sum()\n",
        "  return company_data"
      ],
      "metadata": {
        "id": "KcTCuHCPgqkS"
      },
      "execution_count": 17,
      "outputs": []
    },
    {
      "cell_type": "code",
      "source": [
        "nnl_final=result(nnl_news)\n",
        "abran_final=result(abran_news)\n",
        "ninetyone_final=result(ninetyone_news)\n",
        "ubsag_final=result(ubsag_news)\n",
        "roboco_final=result(roboco_news)\n",
        "ireland_final=result(ireland_news)\n",
        "nomura_final=result(nomura_news)\n",
        "amundi_final=result(amundi_news)\n",
        "janus_final=result(janus_news)"
      ],
      "metadata": {
        "id": "OxBjdWR2hu1X"
      },
      "execution_count": 18,
      "outputs": []
    },
    {
      "cell_type": "code",
      "source": [
        "nnl_final"
      ],
      "metadata": {
        "colab": {
          "base_uri": "https://localhost:8080/",
          "height": 499
        },
        "id": "Ir04sCuIucyx",
        "outputId": "7d91981e-acb6-4cad-d802-00db972cb45b"
      },
      "execution_count": 19,
      "outputs": [
        {
          "output_type": "execute_result",
          "data": {
            "text/plain": [
              "                                                              positive  \\\n",
              "fund                                              publishAt              \n",
              "NN (L) 亞洲債券基金\\n(本基金有相當比重投資於非投資等級之高風險債券且配息來源可能為本金) 2021-10-25         0   \n",
              "                                                  2021-11-02         0   \n",
              "                                                  2022-02-25         0   \n",
              "NN (L) 亞洲收益基金\\n(本基金之配息來源可能為本金)                    2021-08-19        23   \n",
              "                                                  2021-08-20       116   \n",
              "...                                                                ...   \n",
              "NN (L) 食品飲料基金\\n(本基金之配息來源可能為本金)                    2022-01-26         0   \n",
              "                                                  2022-02-09         0   \n",
              "                                                  2022-02-10         0   \n",
              "                                                  2022-02-17         0   \n",
              "                                                  2022-02-23         0   \n",
              "\n",
              "                                                              negative  \n",
              "fund                                              publishAt             \n",
              "NN (L) 亞洲債券基金\\n(本基金有相當比重投資於非投資等級之高風險債券且配息來源可能為本金) 2021-10-25         0  \n",
              "                                                  2021-11-02         0  \n",
              "                                                  2022-02-25         0  \n",
              "NN (L) 亞洲收益基金\\n(本基金之配息來源可能為本金)                    2021-08-19         7  \n",
              "                                                  2021-08-20        30  \n",
              "...                                                                ...  \n",
              "NN (L) 食品飲料基金\\n(本基金之配息來源可能為本金)                    2022-01-26         0  \n",
              "                                                  2022-02-09         0  \n",
              "                                                  2022-02-10         0  \n",
              "                                                  2022-02-17         0  \n",
              "                                                  2022-02-23         0  \n",
              "\n",
              "[1308 rows x 2 columns]"
            ],
            "text/html": [
              "\n",
              "  <div id=\"df-4e3150d2-647f-4231-b935-96368ea0d28d\">\n",
              "    <div class=\"colab-df-container\">\n",
              "      <div>\n",
              "<style scoped>\n",
              "    .dataframe tbody tr th:only-of-type {\n",
              "        vertical-align: middle;\n",
              "    }\n",
              "\n",
              "    .dataframe tbody tr th {\n",
              "        vertical-align: top;\n",
              "    }\n",
              "\n",
              "    .dataframe thead th {\n",
              "        text-align: right;\n",
              "    }\n",
              "</style>\n",
              "<table border=\"1\" class=\"dataframe\">\n",
              "  <thead>\n",
              "    <tr style=\"text-align: right;\">\n",
              "      <th></th>\n",
              "      <th></th>\n",
              "      <th>positive</th>\n",
              "      <th>negative</th>\n",
              "    </tr>\n",
              "    <tr>\n",
              "      <th>fund</th>\n",
              "      <th>publishAt</th>\n",
              "      <th></th>\n",
              "      <th></th>\n",
              "    </tr>\n",
              "  </thead>\n",
              "  <tbody>\n",
              "    <tr>\n",
              "      <th rowspan=\"3\" valign=\"top\">NN (L) 亞洲債券基金\\n(本基金有相當比重投資於非投資等級之高風險債券且配息來源可能為本金)</th>\n",
              "      <th>2021-10-25</th>\n",
              "      <td>0</td>\n",
              "      <td>0</td>\n",
              "    </tr>\n",
              "    <tr>\n",
              "      <th>2021-11-02</th>\n",
              "      <td>0</td>\n",
              "      <td>0</td>\n",
              "    </tr>\n",
              "    <tr>\n",
              "      <th>2022-02-25</th>\n",
              "      <td>0</td>\n",
              "      <td>0</td>\n",
              "    </tr>\n",
              "    <tr>\n",
              "      <th rowspan=\"2\" valign=\"top\">NN (L) 亞洲收益基金\\n(本基金之配息來源可能為本金)</th>\n",
              "      <th>2021-08-19</th>\n",
              "      <td>23</td>\n",
              "      <td>7</td>\n",
              "    </tr>\n",
              "    <tr>\n",
              "      <th>2021-08-20</th>\n",
              "      <td>116</td>\n",
              "      <td>30</td>\n",
              "    </tr>\n",
              "    <tr>\n",
              "      <th>...</th>\n",
              "      <th>...</th>\n",
              "      <td>...</td>\n",
              "      <td>...</td>\n",
              "    </tr>\n",
              "    <tr>\n",
              "      <th rowspan=\"5\" valign=\"top\">NN (L) 食品飲料基金\\n(本基金之配息來源可能為本金)</th>\n",
              "      <th>2022-01-26</th>\n",
              "      <td>0</td>\n",
              "      <td>0</td>\n",
              "    </tr>\n",
              "    <tr>\n",
              "      <th>2022-02-09</th>\n",
              "      <td>0</td>\n",
              "      <td>0</td>\n",
              "    </tr>\n",
              "    <tr>\n",
              "      <th>2022-02-10</th>\n",
              "      <td>0</td>\n",
              "      <td>0</td>\n",
              "    </tr>\n",
              "    <tr>\n",
              "      <th>2022-02-17</th>\n",
              "      <td>0</td>\n",
              "      <td>0</td>\n",
              "    </tr>\n",
              "    <tr>\n",
              "      <th>2022-02-23</th>\n",
              "      <td>0</td>\n",
              "      <td>0</td>\n",
              "    </tr>\n",
              "  </tbody>\n",
              "</table>\n",
              "<p>1308 rows × 2 columns</p>\n",
              "</div>\n",
              "      <button class=\"colab-df-convert\" onclick=\"convertToInteractive('df-4e3150d2-647f-4231-b935-96368ea0d28d')\"\n",
              "              title=\"Convert this dataframe to an interactive table.\"\n",
              "              style=\"display:none;\">\n",
              "        \n",
              "  <svg xmlns=\"http://www.w3.org/2000/svg\" height=\"24px\"viewBox=\"0 0 24 24\"\n",
              "       width=\"24px\">\n",
              "    <path d=\"M0 0h24v24H0V0z\" fill=\"none\"/>\n",
              "    <path d=\"M18.56 5.44l.94 2.06.94-2.06 2.06-.94-2.06-.94-.94-2.06-.94 2.06-2.06.94zm-11 1L8.5 8.5l.94-2.06 2.06-.94-2.06-.94L8.5 2.5l-.94 2.06-2.06.94zm10 10l.94 2.06.94-2.06 2.06-.94-2.06-.94-.94-2.06-.94 2.06-2.06.94z\"/><path d=\"M17.41 7.96l-1.37-1.37c-.4-.4-.92-.59-1.43-.59-.52 0-1.04.2-1.43.59L10.3 9.45l-7.72 7.72c-.78.78-.78 2.05 0 2.83L4 21.41c.39.39.9.59 1.41.59.51 0 1.02-.2 1.41-.59l7.78-7.78 2.81-2.81c.8-.78.8-2.07 0-2.86zM5.41 20L4 18.59l7.72-7.72 1.47 1.35L5.41 20z\"/>\n",
              "  </svg>\n",
              "      </button>\n",
              "      \n",
              "  <style>\n",
              "    .colab-df-container {\n",
              "      display:flex;\n",
              "      flex-wrap:wrap;\n",
              "      gap: 12px;\n",
              "    }\n",
              "\n",
              "    .colab-df-convert {\n",
              "      background-color: #E8F0FE;\n",
              "      border: none;\n",
              "      border-radius: 50%;\n",
              "      cursor: pointer;\n",
              "      display: none;\n",
              "      fill: #1967D2;\n",
              "      height: 32px;\n",
              "      padding: 0 0 0 0;\n",
              "      width: 32px;\n",
              "    }\n",
              "\n",
              "    .colab-df-convert:hover {\n",
              "      background-color: #E2EBFA;\n",
              "      box-shadow: 0px 1px 2px rgba(60, 64, 67, 0.3), 0px 1px 3px 1px rgba(60, 64, 67, 0.15);\n",
              "      fill: #174EA6;\n",
              "    }\n",
              "\n",
              "    [theme=dark] .colab-df-convert {\n",
              "      background-color: #3B4455;\n",
              "      fill: #D2E3FC;\n",
              "    }\n",
              "\n",
              "    [theme=dark] .colab-df-convert:hover {\n",
              "      background-color: #434B5C;\n",
              "      box-shadow: 0px 1px 3px 1px rgba(0, 0, 0, 0.15);\n",
              "      filter: drop-shadow(0px 1px 2px rgba(0, 0, 0, 0.3));\n",
              "      fill: #FFFFFF;\n",
              "    }\n",
              "  </style>\n",
              "\n",
              "      <script>\n",
              "        const buttonEl =\n",
              "          document.querySelector('#df-4e3150d2-647f-4231-b935-96368ea0d28d button.colab-df-convert');\n",
              "        buttonEl.style.display =\n",
              "          google.colab.kernel.accessAllowed ? 'block' : 'none';\n",
              "\n",
              "        async function convertToInteractive(key) {\n",
              "          const element = document.querySelector('#df-4e3150d2-647f-4231-b935-96368ea0d28d');\n",
              "          const dataTable =\n",
              "            await google.colab.kernel.invokeFunction('convertToInteractive',\n",
              "                                                     [key], {});\n",
              "          if (!dataTable) return;\n",
              "\n",
              "          const docLinkHtml = 'Like what you see? Visit the ' +\n",
              "            '<a target=\"_blank\" href=https://colab.research.google.com/notebooks/data_table.ipynb>data table notebook</a>'\n",
              "            + ' to learn more about interactive tables.';\n",
              "          element.innerHTML = '';\n",
              "          dataTable['output_type'] = 'display_data';\n",
              "          await google.colab.output.renderOutput(dataTable, element);\n",
              "          const docLink = document.createElement('div');\n",
              "          docLink.innerHTML = docLinkHtml;\n",
              "          element.appendChild(docLink);\n",
              "        }\n",
              "      </script>\n",
              "    </div>\n",
              "  </div>\n",
              "  "
            ]
          },
          "metadata": {},
          "execution_count": 19
        }
      ]
    },
    {
      "cell_type": "code",
      "source": [
        "nnl_news.groupby(['fund','publishAt']).sum().reset_index()[['fund', 'publishAt','positive','negative']].to_csv('/content/drive/MyDrive/大學/雲端-野村投信/整理完畢/NN(L)_按日期版.csv',encoding='utf-8', index=False)\n",
        "abran_news.groupby(['fund','publishAt']).sum().reset_index()[['fund', 'publishAt','positive','negative']].to_csv('/content/drive/MyDrive/大學/雲端-野村投信/整理完畢/安本標準_按日期版.csv',encoding='utf-8', index=False)\n",
        "ninetyone_news.groupby(['fund','publishAt']).sum().reset_index()[['fund', 'publishAt','positive','negative']].to_csv('/content/drive/MyDrive/大學/雲端-野村投信/整理完畢/晉達_按日期版.csv',encoding='utf-8', index=False)\n",
        "ubsag_news.groupby(['fund','publishAt']).sum().reset_index()[['fund', 'publishAt','positive','negative']].to_csv('/content/drive/MyDrive/大學/雲端-野村投信/整理完畢/瑞銀_按日期版.csv',encoding='utf-8', index=False)\n",
        "roboco_news.groupby(['fund','publishAt']).sum().reset_index()[['fund', 'publishAt','positive','negative']].to_csv('/content/drive/MyDrive/大學/雲端-野村投信/整理完畢/荷寶_按日期版.csv',encoding='utf-8', index=False)\n",
        "ireland_news.groupby(['fund','publishAt']).sum().reset_index()[['fund', 'publishAt','positive','negative']].to_csv('/content/drive/MyDrive/大學/雲端-野村投信/整理完畢/野村基金(愛爾蘭系列)_按日期版.csv',encoding='utf-8', index=False)\n",
        "nomura_news.groupby(['fund','publishAt']).sum().reset_index()[['fund', 'publishAt','positive','negative']].to_csv('/content/drive/MyDrive/大學/雲端-野村投信/整理完畢/野村投信_按日期版.csv',encoding='utf-8', index=False)\n",
        "amundi_news.groupby(['fund','publishAt']).sum().reset_index()[['fund', 'publishAt','positive','negative']].to_csv('/content/drive/MyDrive/大學/雲端-野村投信/整理完畢/鋒裕匯理_按日期版.csv',encoding='utf-8', index=False)\n",
        "janus_news.groupby(['fund','publishAt']).sum().reset_index()[['fund', 'publishAt','positive','negative']].to_csv('/content/drive/MyDrive/大學/雲端-野村投信/整理完畢/駿利亨德森_按日期版.csv',encoding='utf-8', index=False)"
      ],
      "metadata": {
        "id": "IXLhQRW8kxGl"
      },
      "execution_count": null,
      "outputs": []
    }
  ],
  "metadata": {
    "colab": {
      "collapsed_sections": [],
      "name": "News_Sentiment_Analysis.ipynb",
      "provenance": []
    },
    "kernelspec": {
      "display_name": "Python 3",
      "name": "python3"
    },
    "language_info": {
      "name": "python"
    }
  },
  "nbformat": 4,
  "nbformat_minor": 0
}