{
 "cells": [
  {
   "cell_type": "code",
   "execution_count": 146,
   "metadata": {},
   "outputs": [],
   "source": [
    "import pandas as pd\n",
    "import numpy as np\n",
    "import datetime as dt\n",
    "from sklearn import *"
   ]
  },
  {
   "cell_type": "markdown",
   "metadata": {},
   "source": [
    "# Preprocessing"
   ]
  },
  {
   "cell_type": "code",
   "execution_count": 147,
   "metadata": {},
   "outputs": [
    {
     "data": {
      "text/html": [
       "<div>\n",
       "<style scoped>\n",
       "    .dataframe tbody tr th:only-of-type {\n",
       "        vertical-align: middle;\n",
       "    }\n",
       "\n",
       "    .dataframe tbody tr th {\n",
       "        vertical-align: top;\n",
       "    }\n",
       "\n",
       "    .dataframe thead th {\n",
       "        text-align: right;\n",
       "    }\n",
       "</style>\n",
       "<table border=\"1\" class=\"dataframe\">\n",
       "  <thead>\n",
       "    <tr style=\"text-align: right;\">\n",
       "      <th></th>\n",
       "      <th>Allot_Date</th>\n",
       "      <th>Fund_Name</th>\n",
       "      <th>TAIEX_index</th>\n",
       "      <th>VIX_index</th>\n",
       "      <th>S&amp;P_500_index</th>\n",
       "      <th>sentiment_score_pos</th>\n",
       "      <th>sentiment_score_neg</th>\n",
       "      <th>Allot_Amount</th>\n",
       "    </tr>\n",
       "  </thead>\n",
       "  <tbody>\n",
       "    <tr>\n",
       "      <th>0</th>\n",
       "      <td>2021-09-01</td>\n",
       "      <td>野村台灣高股息證券投資信託基金</td>\n",
       "      <td>0.51</td>\n",
       "      <td>-0.015533</td>\n",
       "      <td>0.001090</td>\n",
       "      <td>21.0</td>\n",
       "      <td>17.0</td>\n",
       "      <td>9531</td>\n",
       "    </tr>\n",
       "    <tr>\n",
       "      <th>1</th>\n",
       "      <td>2021-09-01</td>\n",
       "      <td>野村全球生技醫療證券投資信託基金</td>\n",
       "      <td>0.51</td>\n",
       "      <td>-0.015533</td>\n",
       "      <td>0.001090</td>\n",
       "      <td>0.0</td>\n",
       "      <td>0.0</td>\n",
       "      <td>-1019917</td>\n",
       "    </tr>\n",
       "    <tr>\n",
       "      <th>2</th>\n",
       "      <td>2021-09-01</td>\n",
       "      <td>野村全球不動產證券化證券投資信託基金</td>\n",
       "      <td>0.51</td>\n",
       "      <td>-0.015533</td>\n",
       "      <td>0.001090</td>\n",
       "      <td>0.0</td>\n",
       "      <td>0.0</td>\n",
       "      <td>-56198</td>\n",
       "    </tr>\n",
       "    <tr>\n",
       "      <th>3</th>\n",
       "      <td>2021-09-01</td>\n",
       "      <td>野村優質證券投資信託基金</td>\n",
       "      <td>0.51</td>\n",
       "      <td>-0.015533</td>\n",
       "      <td>0.001090</td>\n",
       "      <td>134.0</td>\n",
       "      <td>59.0</td>\n",
       "      <td>-36807067</td>\n",
       "    </tr>\n",
       "    <tr>\n",
       "      <th>4</th>\n",
       "      <td>2021-09-01</td>\n",
       "      <td>野村優質證券投資信託基金</td>\n",
       "      <td>0.51</td>\n",
       "      <td>-0.015533</td>\n",
       "      <td>0.001090</td>\n",
       "      <td>134.0</td>\n",
       "      <td>59.0</td>\n",
       "      <td>-36807067</td>\n",
       "    </tr>\n",
       "    <tr>\n",
       "      <th>...</th>\n",
       "      <td>...</td>\n",
       "      <td>...</td>\n",
       "      <td>...</td>\n",
       "      <td>...</td>\n",
       "      <td>...</td>\n",
       "      <td>...</td>\n",
       "      <td>...</td>\n",
       "      <td>...</td>\n",
       "    </tr>\n",
       "    <tr>\n",
       "      <th>227828</th>\n",
       "      <td>2022-02-27</td>\n",
       "      <td>野村大俄羅斯證券投資信託基金</td>\n",
       "      <td>0.33</td>\n",
       "      <td>-0.045200</td>\n",
       "      <td>0.005829</td>\n",
       "      <td>0.0</td>\n",
       "      <td>0.0</td>\n",
       "      <td>4238715</td>\n",
       "    </tr>\n",
       "    <tr>\n",
       "      <th>227829</th>\n",
       "      <td>2022-02-27</td>\n",
       "      <td>野村優質證券投資信託基金</td>\n",
       "      <td>0.33</td>\n",
       "      <td>-0.045200</td>\n",
       "      <td>0.005829</td>\n",
       "      <td>3.0</td>\n",
       "      <td>0.0</td>\n",
       "      <td>-12325547</td>\n",
       "    </tr>\n",
       "    <tr>\n",
       "      <th>227830</th>\n",
       "      <td>2022-02-27</td>\n",
       "      <td>野村優質證券投資信託基金</td>\n",
       "      <td>0.33</td>\n",
       "      <td>-0.045200</td>\n",
       "      <td>0.005829</td>\n",
       "      <td>3.0</td>\n",
       "      <td>0.0</td>\n",
       "      <td>-12325547</td>\n",
       "    </tr>\n",
       "    <tr>\n",
       "      <th>227831</th>\n",
       "      <td>2022-02-27</td>\n",
       "      <td>野村中小證券投資信託基金</td>\n",
       "      <td>0.33</td>\n",
       "      <td>-0.045200</td>\n",
       "      <td>0.005829</td>\n",
       "      <td>3.0</td>\n",
       "      <td>0.0</td>\n",
       "      <td>-1256610</td>\n",
       "    </tr>\n",
       "    <tr>\n",
       "      <th>227832</th>\n",
       "      <td>2022-02-27</td>\n",
       "      <td>野村優質證券投資信託基金</td>\n",
       "      <td>0.33</td>\n",
       "      <td>-0.045200</td>\n",
       "      <td>0.005829</td>\n",
       "      <td>3.0</td>\n",
       "      <td>0.0</td>\n",
       "      <td>-12325547</td>\n",
       "    </tr>\n",
       "  </tbody>\n",
       "</table>\n",
       "<p>227833 rows × 8 columns</p>\n",
       "</div>"
      ],
      "text/plain": [
       "       Allot_Date           Fund_Name  TAIEX_index  VIX_index  S&P_500_index  \\\n",
       "0      2021-09-01     野村台灣高股息證券投資信託基金         0.51  -0.015533       0.001090   \n",
       "1      2021-09-01    野村全球生技醫療證券投資信託基金         0.51  -0.015533       0.001090   \n",
       "2      2021-09-01  野村全球不動產證券化證券投資信託基金         0.51  -0.015533       0.001090   \n",
       "3      2021-09-01        野村優質證券投資信託基金         0.51  -0.015533       0.001090   \n",
       "4      2021-09-01        野村優質證券投資信託基金         0.51  -0.015533       0.001090   \n",
       "...           ...                 ...          ...        ...            ...   \n",
       "227828 2022-02-27      野村大俄羅斯證券投資信託基金         0.33  -0.045200       0.005829   \n",
       "227829 2022-02-27        野村優質證券投資信託基金         0.33  -0.045200       0.005829   \n",
       "227830 2022-02-27        野村優質證券投資信託基金         0.33  -0.045200       0.005829   \n",
       "227831 2022-02-27        野村中小證券投資信託基金         0.33  -0.045200       0.005829   \n",
       "227832 2022-02-27        野村優質證券投資信託基金         0.33  -0.045200       0.005829   \n",
       "\n",
       "        sentiment_score_pos  sentiment_score_neg  Allot_Amount  \n",
       "0                      21.0                 17.0          9531  \n",
       "1                       0.0                  0.0      -1019917  \n",
       "2                       0.0                  0.0        -56198  \n",
       "3                     134.0                 59.0     -36807067  \n",
       "4                     134.0                 59.0     -36807067  \n",
       "...                     ...                  ...           ...  \n",
       "227828                  0.0                  0.0       4238715  \n",
       "227829                  3.0                  0.0     -12325547  \n",
       "227830                  3.0                  0.0     -12325547  \n",
       "227831                  3.0                  0.0      -1256610  \n",
       "227832                  3.0                  0.0     -12325547  \n",
       "\n",
       "[227833 rows x 8 columns]"
      ]
     },
     "execution_count": 147,
     "metadata": {},
     "output_type": "execute_result"
    }
   ],
   "source": [
    "# read data\n",
    "data_path = '/Users/wangchangzai/Desktop/巨量資料應用專題/Nomurafunds/FeatureTable/'\n",
    "feature_df = pd.read_csv(data_path + 'low_level_users.csv', dtype={'Fund_Name': str,\n",
    "                                                                    'TAIEX': float,\n",
    "                                                                    'VIX_index': float,\n",
    "                                                                    'S&P_500_index': float,\n",
    "                                                                    'fund_net_worth': float,\n",
    "                                                                    'Allot_Amount': int}, parse_dates=['Allot_Date'])\n",
    "feature_df.sort_values(by=['Allot_Date'], inplace=True, ignore_index=True)\n",
    "feature_df"
   ]
  },
  {
   "cell_type": "code",
   "execution_count": 148,
   "metadata": {},
   "outputs": [
    {
     "name": "stdout",
     "output_type": "stream",
     "text": [
      "<class 'pandas.core.frame.DataFrame'>\n",
      "RangeIndex: 227833 entries, 0 to 227832\n",
      "Data columns (total 6 columns):\n",
      " #   Column         Non-Null Count   Dtype         \n",
      "---  ------         --------------   -----         \n",
      " 0   Allot_Date     227833 non-null  datetime64[ns]\n",
      " 1   Fund_Name      227833 non-null  object        \n",
      " 2   TAIEX_index    227833 non-null  float64       \n",
      " 3   VIX_index      227833 non-null  float64       \n",
      " 4   S&P_500_index  227833 non-null  float64       \n",
      " 5   Allot_Amount   227833 non-null  int64         \n",
      "dtypes: datetime64[ns](1), float64(3), int64(1), object(1)\n",
      "memory usage: 10.4+ MB\n"
     ]
    }
   ],
   "source": [
    "feature_df_without_senti_score = feature_df.copy()\n",
    "feature_df_without_senti_score.drop(columns=['sentiment_score_pos', 'sentiment_score_neg'], inplace=True)\n",
    "feature_df_without_senti_score.info()"
   ]
  },
  {
   "cell_type": "code",
   "execution_count": 149,
   "metadata": {},
   "outputs": [
    {
     "name": "stdout",
     "output_type": "stream",
     "text": [
      "<class 'pandas.core.frame.DataFrame'>\n",
      "RangeIndex: 227833 entries, 0 to 227832\n",
      "Data columns (total 8 columns):\n",
      " #   Column               Non-Null Count   Dtype         \n",
      "---  ------               --------------   -----         \n",
      " 0   Allot_Date           227833 non-null  datetime64[ns]\n",
      " 1   Fund_Name            227833 non-null  object        \n",
      " 2   TAIEX_index          227833 non-null  float64       \n",
      " 3   VIX_index            227833 non-null  float64       \n",
      " 4   S&P_500_index        227833 non-null  float64       \n",
      " 5   sentiment_score_pos  227833 non-null  float64       \n",
      " 6   sentiment_score_neg  227833 non-null  float64       \n",
      " 7   Allot_Amount         227833 non-null  int64         \n",
      "dtypes: datetime64[ns](1), float64(5), int64(1), object(1)\n",
      "memory usage: 13.9+ MB\n"
     ]
    }
   ],
   "source": [
    "feature_df.dropna(inplace=True)\n",
    "feature_df.info()"
   ]
  },
  {
   "cell_type": "markdown",
   "metadata": {},
   "source": [
    "# Feature Engineering"
   ]
  },
  {
   "cell_type": "markdown",
   "metadata": {},
   "source": [
    "## Correlation coefficient between feature"
   ]
  },
  {
   "cell_type": "code",
   "execution_count": 150,
   "metadata": {},
   "outputs": [
    {
     "data": {
      "text/plain": [
       "<AxesSubplot:>"
      ]
     },
     "execution_count": 150,
     "metadata": {},
     "output_type": "execute_result"
    },
    {
     "data": {
      "image/png": "[encoded data removed]",
      "text/plain": [
       "<Figure size 1440x720 with 2 Axes>"
      ]
     },
     "metadata": {
      "needs_background": "light"
     },
     "output_type": "display_data"
    }
   ],
   "source": [
    "import matplotlib.pyplot as plt\n",
    "import seaborn as sns\n",
    "\n",
    "plt.figure(figsize=(20,10))\n",
    "sns.heatmap(feature_df.corr(method='pearson'), vmin=-1, vmax=1, annot=True)"
   ]
  },
  {
   "cell_type": "markdown",
   "metadata": {},
   "source": [
    "## Standardization"
   ]
  },
  {
   "cell_type": "code",
   "execution_count": 151,
   "metadata": {},
   "outputs": [],
   "source": [
    "# feature_df_numerics = feature_df.select_dtypes(include=np.number).columns.tolist()\n",
    "# feature_df_numerics = feature_df_numerics[:-1]\n",
    "# feature_df_without_net_worth_numerics = feature_df_numerics[:-1]\n",
    "# print(feature_df_numerics)\n",
    "# print(feature_df_without_net_worth_numerics)"
   ]
  },
  {
   "cell_type": "code",
   "execution_count": 152,
   "metadata": {},
   "outputs": [],
   "source": [
    "# from sklearn.preprocessing import StandardScaler\n",
    "\n",
    "# feature_df[feature_df_numerics] = StandardScaler().fit_transform(feature_df[feature_df_numerics])\n",
    "# STD_feature_df = feature_df\n",
    "# STD_feature_df"
   ]
  },
  {
   "cell_type": "code",
   "execution_count": 153,
   "metadata": {},
   "outputs": [],
   "source": [
    "# feature_df_without_net_worth[feature_df_without_net_worth_numerics] = StandardScaler().fit_transform(feature_df_without_net_worth[feature_df_without_net_worth_numerics])\n",
    "# STD_feature_df_without_net_worth = feature_df_without_net_worth\n",
    "# STD_feature_df_without_net_worth"
   ]
  },
  {
   "cell_type": "markdown",
   "metadata": {},
   "source": [
    "## fund_name do one-hot encoding"
   ]
  },
  {
   "cell_type": "code",
   "execution_count": 154,
   "metadata": {},
   "outputs": [],
   "source": [
    "feature_df = pd.get_dummies(feature_df, columns=['Fund_Name'])"
   ]
  },
  {
   "cell_type": "code",
   "execution_count": 155,
   "metadata": {},
   "outputs": [],
   "source": [
    "feature_df_without_senti_score = pd.get_dummies(feature_df_without_senti_score, columns=['Fund_Name'])"
   ]
  },
  {
   "cell_type": "markdown",
   "metadata": {},
   "source": [
    "## PCA"
   ]
  },
  {
   "cell_type": "code",
   "execution_count": 156,
   "metadata": {},
   "outputs": [],
   "source": [
    "# from sklearn.decomposition import PCA\n",
    "\n",
    "# pca = PCA()\n",
    "# pca.fit(STD_feature_df[feature_df_numerics])\n",
    "# PCA_feature_df = pca.transform(STD_feature_df[feature_df_numerics])\n",
    "# PCA_feature_df = pd.DataFrame(data=PCA_feature_df, columns={'PC1', 'PC2', 'PC3', 'PC4'})\n",
    "# PCA_feature_df['Allot_Amount'] = STD_feature_df['Allot_Amount'].values\n",
    "# PCA_feature_df"
   ]
  },
  {
   "cell_type": "markdown",
   "metadata": {},
   "source": [
    "# Modeling"
   ]
  },
  {
   "cell_type": "code",
   "execution_count": 157,
   "metadata": {},
   "outputs": [],
   "source": [
    "# feature data\n",
    "feature_data = feature_df.drop(columns=['Allot_Amount'])\n",
    "feature_data_without_senti_score = feature_df_without_senti_score.drop(columns=['Allot_Amount'])\n",
    "\n",
    "# target data\n",
    "target = feature_df['Allot_Amount']\n",
    "without_senti_score_target = feature_df_without_senti_score['Allot_Amount']"
   ]
  },
  {
   "cell_type": "code",
   "execution_count": 158,
   "metadata": {},
   "outputs": [
    {
     "name": "stdout",
     "output_type": "stream",
     "text": [
      "191692 36141\n"
     ]
    }
   ],
   "source": [
    "# 將2月份資料當作測試集\n",
    "X_train_with_senti_score = feature_data[feature_data['Allot_Date'] < '2022-02-01']\n",
    "X_test_with_senti_score = feature_data[feature_data['Allot_Date'] >= '2022-02-01']\n",
    "print(len(X_train_with_senti_score), len(X_test_with_senti_score))\n",
    "Y_train_with_senti_score = pd.DataFrame(target[:len(X_train_with_senti_score)])\n",
    "Y_test_with_senti_score = pd.DataFrame(target[len(X_train_with_senti_score):])"
   ]
  },
  {
   "cell_type": "code",
   "execution_count": 159,
   "metadata": {},
   "outputs": [
    {
     "name": "stdout",
     "output_type": "stream",
     "text": [
      "191692 36141\n"
     ]
    }
   ],
   "source": [
    "X_train_without_senti_score = feature_data_without_senti_score[feature_data_without_senti_score['Allot_Date'] < '2022-02-01']\n",
    "X_test_without_senti_score = feature_data_without_senti_score[feature_data_without_senti_score['Allot_Date'] >= '2022-02-01']\n",
    "print(len(X_train_without_senti_score), len(X_test_without_senti_score))\n",
    "Y_train_without_senti_score = pd.DataFrame(without_senti_score_target[:len(X_train_without_senti_score)])\n",
    "Y_test_without_senti_score = pd.DataFrame(without_senti_score_target[len(X_train_without_senti_score):])"
   ]
  },
  {
   "cell_type": "code",
   "execution_count": 160,
   "metadata": {},
   "outputs": [
    {
     "name": "stderr",
     "output_type": "stream",
     "text": [
      "/var/folders/wh/q9jpw9q91cj339hv7crgg_xm0000gn/T/ipykernel_11260/2872395406.py:2: SettingWithCopyWarning: \n",
      "A value is trying to be set on a copy of a slice from a DataFrame\n",
      "\n",
      "See the caveats in the documentation: https://pandas.pydata.org/pandas-docs/stable/user_guide/indexing.html#returning-a-view-versus-a-copy\n",
      "  X_train_with_senti_score.drop(columns=['Allot_Date'], inplace=True)\n",
      "/var/folders/wh/q9jpw9q91cj339hv7crgg_xm0000gn/T/ipykernel_11260/2872395406.py:3: SettingWithCopyWarning: \n",
      "A value is trying to be set on a copy of a slice from a DataFrame\n",
      "\n",
      "See the caveats in the documentation: https://pandas.pydata.org/pandas-docs/stable/user_guide/indexing.html#returning-a-view-versus-a-copy\n",
      "  X_test_with_senti_score.drop(columns=['Allot_Date'], inplace=True)\n",
      "/var/folders/wh/q9jpw9q91cj339hv7crgg_xm0000gn/T/ipykernel_11260/2872395406.py:4: SettingWithCopyWarning: \n",
      "A value is trying to be set on a copy of a slice from a DataFrame\n",
      "\n",
      "See the caveats in the documentation: https://pandas.pydata.org/pandas-docs/stable/user_guide/indexing.html#returning-a-view-versus-a-copy\n",
      "  X_train_without_senti_score.drop(columns=['Allot_Date'], inplace=True)\n",
      "/var/folders/wh/q9jpw9q91cj339hv7crgg_xm0000gn/T/ipykernel_11260/2872395406.py:5: SettingWithCopyWarning: \n",
      "A value is trying to be set on a copy of a slice from a DataFrame\n",
      "\n",
      "See the caveats in the documentation: https://pandas.pydata.org/pandas-docs/stable/user_guide/indexing.html#returning-a-view-versus-a-copy\n",
      "  X_test_without_senti_score.drop(columns=['Allot_Date'], inplace=True)\n"
     ]
    }
   ],
   "source": [
    "# drop date from train & test dataset\n",
    "X_train_with_senti_score.drop(columns=['Allot_Date'], inplace=True)\n",
    "X_test_with_senti_score.drop(columns=['Allot_Date'], inplace=True)\n",
    "X_train_without_senti_score.drop(columns=['Allot_Date'], inplace=True)\n",
    "X_test_without_senti_score.drop(columns=['Allot_Date'], inplace=True)"
   ]
  },
  {
   "cell_type": "code",
   "execution_count": 161,
   "metadata": {},
   "outputs": [],
   "source": [
    "X_train_with_senti_score.to_csv('x_train/X_train_with_senti_score.csv', encoding='utf-8', index=False)\n",
    "X_test_with_senti_score.to_csv('x_test/X_test_with_senti_score.csv', encoding='utf-8', index=False)\n",
    "X_train_without_senti_score.to_csv('x_train/X_train_without_senti_score.csv', encoding='utf-8', index=False)\n",
    "X_test_without_senti_score.to_csv('x_test/X_test_without_senti_score.csv', encoding='utf-8', index=False)\n",
    "\n",
    "Y_train_with_senti_score.to_csv('y_train/Y_train_with_senti_score.csv', encoding='utf-8', index=False)\n",
    "Y_test_with_senti_score.to_csv('y_test/Y_test_with_senti_score.csv', encoding='utf-8', index=False)\n",
    "Y_train_without_senti_score.to_csv('y_train/Y_train_without_senti_score.csv', encoding='utf-8', index=False)\n",
    "Y_test_without_senti_score.to_csv('y_test/Y_test_without_senti_score.csv', encoding='utf-8', index=False)"
   ]
  },
  {
   "cell_type": "markdown",
   "metadata": {},
   "source": [
    "## Regression"
   ]
  },
  {
   "cell_type": "markdown",
   "metadata": {},
   "source": [
    "### Linear Regression"
   ]
  },
  {
   "cell_type": "code",
   "execution_count": 162,
   "metadata": {},
   "outputs": [],
   "source": [
    "from sklearn.linear_model import LinearRegression\n",
    "from sklearn.metrics import mean_squared_error\n",
    "\n",
    "linear = LinearRegression()"
   ]
  },
  {
   "cell_type": "code",
   "execution_count": 163,
   "metadata": {},
   "outputs": [
    {
     "name": "stdout",
     "output_type": "stream",
     "text": [
      "Valid RMSE with net worth: 67601502.43193437\n"
     ]
    }
   ],
   "source": [
    "# 訓練Linear Regression模型\n",
    "linear_regression_with_senti_score = linear.fit(X_train_with_senti_score, Y_train_with_senti_score)\n",
    "\n",
    "# 預測驗證集資料的結果\n",
    "predictions_with_senti_score = linear_regression_with_senti_score.predict(X_test_with_senti_score)\n",
    "\n",
    "# 評估模型成效\n",
    "print('Valid RMSE with net worth:', mean_squared_error(predictions_with_senti_score, Y_test_with_senti_score) ** 0.5)"
   ]
  },
  {
   "cell_type": "code",
   "execution_count": 164,
   "metadata": {},
   "outputs": [
    {
     "name": "stdout",
     "output_type": "stream",
     "text": [
      "Valid RMSE with net worth: 95745435.06469892\n"
     ]
    }
   ],
   "source": [
    "test5 = linear_regression_with_senti_score.predict(X_train_with_senti_score)\n",
    "print('Valid RMSE with net worth:', mean_squared_error(test5, Y_train_with_senti_score) ** 0.5)"
   ]
  },
  {
   "cell_type": "code",
   "execution_count": 165,
   "metadata": {},
   "outputs": [
    {
     "name": "stdout",
     "output_type": "stream",
     "text": [
      "Valid RMSE without net worth: 5.947531246643957e+18\n"
     ]
    }
   ],
   "source": [
    "# 訓練Linear Regression模型\n",
    "linear_regression_without_senti_score = linear.fit(X_train_without_senti_score, Y_train_without_senti_score)\n",
    "\n",
    "# 預測驗證集資料的結果\n",
    "predictions_without_senti_score = linear_regression_without_senti_score.predict(X_test_without_senti_score)\n",
    "\n",
    "# 評估模型成效\n",
    "print('Valid RMSE without net worth:', mean_squared_error(predictions_without_senti_score, Y_test_without_senti_score) ** 0.5)"
   ]
  },
  {
   "cell_type": "code",
   "execution_count": 166,
   "metadata": {},
   "outputs": [
    {
     "name": "stdout",
     "output_type": "stream",
     "text": [
      "Valid RMSE with net worth: 96586549.92924783\n"
     ]
    }
   ],
   "source": [
    "test6 = linear_regression_without_senti_score.predict(X_train_without_senti_score)\n",
    "print('Valid RMSE with net worth:', mean_squared_error(test6, Y_train_without_senti_score) ** 0.5)"
   ]
  },
  {
   "cell_type": "markdown",
   "metadata": {},
   "source": [
    "### XGBoost Regression"
   ]
  },
  {
   "cell_type": "code",
   "execution_count": 167,
   "metadata": {},
   "outputs": [],
   "source": [
    "from xgboost import XGBRegressor\n",
    "\n",
    "xgb_r = XGBRegressor()"
   ]
  },
  {
   "cell_type": "code",
   "execution_count": 168,
   "metadata": {},
   "outputs": [
    {
     "name": "stdout",
     "output_type": "stream",
     "text": [
      "Valid RMSE with net worth: 92050424.4497884\n"
     ]
    }
   ],
   "source": [
    "# 訓練XGBoost Regression模型\n",
    "xgb_r_with_senti_score = xgb_r.fit(X_train_with_senti_score, Y_train_with_senti_score)\n",
    "\n",
    "# 預測驗證集資料的結果\n",
    "xgb_r_predictions_with_senti_score = xgb_r_with_senti_score.predict(X_test_with_senti_score)\n",
    "\n",
    "# 評估模型成效\n",
    "print('Valid RMSE with net worth:', mean_squared_error(xgb_r_predictions_with_senti_score, Y_test_with_senti_score) ** 0.5)"
   ]
  },
  {
   "cell_type": "code",
   "execution_count": 169,
   "metadata": {},
   "outputs": [
    {
     "name": "stdout",
     "output_type": "stream",
     "text": [
      "Valid RMSE with net worth: 3185867.207702693\n"
     ]
    }
   ],
   "source": [
    "test7 = xgb_r_with_senti_score.predict(X_train_with_senti_score)\n",
    "print('Valid RMSE with net worth:', mean_squared_error(test7, Y_train_with_senti_score) ** 0.5)"
   ]
  },
  {
   "cell_type": "code",
   "execution_count": 170,
   "metadata": {},
   "outputs": [
    {
     "name": "stdout",
     "output_type": "stream",
     "text": [
      "Valid RMSE without net worth: 105501256.21433386\n"
     ]
    }
   ],
   "source": [
    "# 訓練XGBoost Regression模型\n",
    "xgb_r_without_senti_score = xgb_r.fit(X_train_without_senti_score, Y_train_without_senti_score)\n",
    "\n",
    "# 預測驗證集資料的結果\n",
    "xgb_r_predictions_without_senti_score = xgb_r_without_senti_score.predict(X_test_without_senti_score)\n",
    "\n",
    "# 評估模型成效\n",
    "print('Valid RMSE without net worth:', mean_squared_error(xgb_r_predictions_without_senti_score, Y_test_without_senti_score) ** 0.5)"
   ]
  },
  {
   "cell_type": "code",
   "execution_count": 171,
   "metadata": {},
   "outputs": [
    {
     "name": "stdout",
     "output_type": "stream",
     "text": [
      "Valid RMSE with net worth: 2950030.72705115\n"
     ]
    }
   ],
   "source": [
    "test8 = xgb_r_without_senti_score.predict(X_train_without_senti_score)\n",
    "print('Valid RMSE with net worth:', mean_squared_error(test8, Y_train_without_senti_score) ** 0.5)"
   ]
  },
  {
   "cell_type": "markdown",
   "metadata": {},
   "source": [
    "## Classification"
   ]
  },
  {
   "cell_type": "code",
   "execution_count": 172,
   "metadata": {},
   "outputs": [],
   "source": [
    "# copy target dataset\n",
    "class_Y_test_with_senti_score = Y_test_with_senti_score.copy()\n",
    "class_Y_train_with_senti_score = Y_train_with_senti_score.copy()\n",
    "class_Y_test_without_senti_score = Y_test_without_senti_score.copy()\n",
    "class_Y_train_without_senti_score = Y_train_without_senti_score.copy()"
   ]
  },
  {
   "cell_type": "code",
   "execution_count": 173,
   "metadata": {},
   "outputs": [],
   "source": [
    "def sub_red(x):\n",
    "    if x >= 0:\n",
    "        return 0\n",
    "    else:\n",
    "        return 1"
   ]
  },
  {
   "cell_type": "code",
   "execution_count": 174,
   "metadata": {},
   "outputs": [],
   "source": [
    "# transform into 申購=0 or 贖回=1\n",
    "class_Y_test_with_senti_score['Allot_Amount'] = class_Y_test_with_senti_score['Allot_Amount'].apply(sub_red)\n",
    "class_Y_train_with_senti_score['Allot_Amount'] = class_Y_train_with_senti_score['Allot_Amount'].apply(sub_red)\n",
    "class_Y_test_without_senti_score['Allot_Amount'] = class_Y_test_without_senti_score['Allot_Amount'].apply(sub_red)\n",
    "class_Y_train_without_senti_score['Allot_Amount'] = class_Y_train_without_senti_score['Allot_Amount'].apply(sub_red)"
   ]
  },
  {
   "cell_type": "markdown",
   "metadata": {},
   "source": [
    "### logistic regression"
   ]
  },
  {
   "cell_type": "code",
   "execution_count": 175,
   "metadata": {},
   "outputs": [],
   "source": [
    "from sklearn.linear_model import LogisticRegression\n",
    "\n",
    "log_r = LogisticRegression()"
   ]
  },
  {
   "cell_type": "code",
   "execution_count": 176,
   "metadata": {},
   "outputs": [
    {
     "name": "stderr",
     "output_type": "stream",
     "text": [
      "/usr/local/lib/python3.9/site-packages/sklearn/utils/validation.py:993: DataConversionWarning: A column-vector y was passed when a 1d array was expected. Please change the shape of y to (n_samples, ), for example using ravel().\n",
      "  y = column_or_1d(y, warn=True)\n"
     ]
    },
    {
     "name": "stdout",
     "output_type": "stream",
     "text": [
      "Valid accuracy net worth 0.5203785174732298\n",
      "Valid F1-score net worth 0.518500677982499\n"
     ]
    },
    {
     "name": "stderr",
     "output_type": "stream",
     "text": [
      "/usr/local/lib/python3.9/site-packages/sklearn/linear_model/_logistic.py:814: ConvergenceWarning: lbfgs failed to converge (status=1):\n",
      "STOP: TOTAL NO. of ITERATIONS REACHED LIMIT.\n",
      "\n",
      "Increase the number of iterations (max_iter) or scale the data as shown in:\n",
      "    https://scikit-learn.org/stable/modules/preprocessing.html\n",
      "Please also refer to the documentation for alternative solver options:\n",
      "    https://scikit-learn.org/stable/modules/linear_model.html#logistic-regression\n",
      "  n_iter_i = _check_optimize_result(\n"
     ]
    }
   ],
   "source": [
    "from sklearn.metrics import accuracy_score , f1_score\n",
    "\n",
    "log_r_with_senti_score = log_r.fit(X_train_with_senti_score, class_Y_train_with_senti_score)\n",
    "log_r_predictions_with_senti_score = log_r_with_senti_score.predict(X_test_with_senti_score)\n",
    "print('Valid accuracy net worth', accuracy_score(log_r_predictions_with_senti_score, class_Y_test_with_senti_score))\n",
    "print('Valid F1-score net worth', f1_score(log_r_predictions_with_senti_score, class_Y_test_with_senti_score, average='macro'))"
   ]
  },
  {
   "cell_type": "code",
   "execution_count": 177,
   "metadata": {},
   "outputs": [
    {
     "name": "stdout",
     "output_type": "stream",
     "text": [
      "Valid accuracy net worth 0.61883646683221\n",
      "Valid F1-score net worth 0.6092899220718546\n"
     ]
    }
   ],
   "source": [
    "test1 = log_r_with_senti_score.predict(X_train_with_senti_score)\n",
    "print('Valid accuracy net worth', accuracy_score(test1, class_Y_train_with_senti_score))\n",
    "print('Valid F1-score net worth', f1_score(test1, class_Y_train_with_senti_score, average='macro'))"
   ]
  },
  {
   "cell_type": "code",
   "execution_count": 178,
   "metadata": {},
   "outputs": [
    {
     "name": "stderr",
     "output_type": "stream",
     "text": [
      "/usr/local/lib/python3.9/site-packages/sklearn/utils/validation.py:993: DataConversionWarning: A column-vector y was passed when a 1d array was expected. Please change the shape of y to (n_samples, ), for example using ravel().\n",
      "  y = column_or_1d(y, warn=True)\n"
     ]
    },
    {
     "name": "stdout",
     "output_type": "stream",
     "text": [
      "Valid accuracy net worth 0.5289560333139648\n",
      "Valid F1-score net worth 0.5270187422857618\n"
     ]
    },
    {
     "name": "stderr",
     "output_type": "stream",
     "text": [
      "/usr/local/lib/python3.9/site-packages/sklearn/linear_model/_logistic.py:814: ConvergenceWarning: lbfgs failed to converge (status=1):\n",
      "STOP: TOTAL NO. of ITERATIONS REACHED LIMIT.\n",
      "\n",
      "Increase the number of iterations (max_iter) or scale the data as shown in:\n",
      "    https://scikit-learn.org/stable/modules/preprocessing.html\n",
      "Please also refer to the documentation for alternative solver options:\n",
      "    https://scikit-learn.org/stable/modules/linear_model.html#logistic-regression\n",
      "  n_iter_i = _check_optimize_result(\n"
     ]
    }
   ],
   "source": [
    "log_r_without_senti_score = log_r.fit(X_train_without_senti_score, class_Y_train_without_senti_score)\n",
    "log_r_predictions_without_senti_score = log_r_without_senti_score.predict(X_test_without_senti_score)\n",
    "print('Valid accuracy net worth', accuracy_score(log_r_predictions_without_senti_score, class_Y_test_without_senti_score))\n",
    "print('Valid F1-score net worth', f1_score(log_r_predictions_without_senti_score, class_Y_test_without_senti_score, average='macro'))"
   ]
  },
  {
   "cell_type": "code",
   "execution_count": 179,
   "metadata": {},
   "outputs": [
    {
     "name": "stdout",
     "output_type": "stream",
     "text": [
      "Valid accuracy net worth 0.6287951505540137\n",
      "Valid F1-score net worth 0.6179153836143588\n"
     ]
    }
   ],
   "source": [
    "test2 = log_r_without_senti_score.predict(X_train_without_senti_score)\n",
    "print('Valid accuracy net worth', accuracy_score(test2, class_Y_train_without_senti_score))\n",
    "print('Valid F1-score net worth', f1_score(test2, class_Y_train_without_senti_score, average='macro'))"
   ]
  },
  {
   "cell_type": "code",
   "execution_count": 180,
   "metadata": {},
   "outputs": [],
   "source": [
    "from xgboost import XGBClassifier\n",
    "\n",
    "xgb_c = XGBClassifier()"
   ]
  },
  {
   "cell_type": "code",
   "execution_count": 181,
   "metadata": {},
   "outputs": [
    {
     "name": "stdout",
     "output_type": "stream",
     "text": [
      "Valid accuracy net worth 0.525109985888603\n",
      "Valid F1-score net worth 0.5173590382395687\n"
     ]
    }
   ],
   "source": [
    "xgb_c_with_senti_score = xgb_c.fit(X_train_with_senti_score, class_Y_train_with_senti_score)\n",
    "xgb_c_predictions_with_senti_score = xgb_c_with_senti_score.predict(X_test_with_senti_score)\n",
    "print('Valid accuracy net worth', accuracy_score(xgb_c_predictions_with_senti_score, class_Y_test_with_senti_score))\n",
    "print('Valid F1-score net worth', f1_score(xgb_c_predictions_with_senti_score, class_Y_test_with_senti_score, average='macro'))"
   ]
  },
  {
   "cell_type": "code",
   "execution_count": 182,
   "metadata": {},
   "outputs": [
    {
     "name": "stdout",
     "output_type": "stream",
     "text": [
      "Valid accuracy net worth 0.9563935897168374\n",
      "Valid F1-score net worth 0.9559188611190457\n"
     ]
    }
   ],
   "source": [
    "test3 = xgb_c_with_senti_score.predict(X_train_with_senti_score)\n",
    "print('Valid accuracy net worth', accuracy_score(test3, class_Y_train_with_senti_score))\n",
    "print('Valid F1-score net worth', f1_score(test3, class_Y_train_with_senti_score, average='macro'))"
   ]
  },
  {
   "cell_type": "code",
   "execution_count": 183,
   "metadata": {},
   "outputs": [
    {
     "name": "stdout",
     "output_type": "stream",
     "text": [
      "Valid accuracy net worth 0.4803962258930301\n",
      "Valid F1-score net worth 0.47393933215140205\n"
     ]
    }
   ],
   "source": [
    "xgb_c_without_senti_score = xgb_c.fit(X_train_without_senti_score, class_Y_train_without_senti_score)\n",
    "xgb_c_predictions_without_senti_score = xgb_c_without_senti_score.predict(X_test_without_senti_score)\n",
    "print('Valid accuracy net worth', accuracy_score(xgb_c_predictions_without_senti_score, class_Y_test_without_senti_score))\n",
    "print('Valid F1-score net worth', f1_score(xgb_c_predictions_without_senti_score, class_Y_test_without_senti_score, average='macro'))"
   ]
  },
  {
   "cell_type": "code",
   "execution_count": 184,
   "metadata": {},
   "outputs": [
    {
     "name": "stdout",
     "output_type": "stream",
     "text": [
      "Valid accuracy net worth 0.9328610479310561\n",
      "Valid F1-score net worth 0.9323821646077624\n"
     ]
    }
   ],
   "source": [
    "test4 = xgb_c_without_senti_score.predict(X_train_without_senti_score)\n",
    "print('Valid accuracy net worth', accuracy_score(test4, class_Y_train_without_senti_score))\n",
    "print('Valid F1-score net worth', f1_score(test4, class_Y_train_without_senti_score, average='macro'))"
   ]
  }
 ],
 "metadata": {
  "interpreter": {
   "hash": "aee8b7b246df8f9039afb4144a1f6fd8d2ca17a180786b69acc140d282b71a49"
  },
  "kernelspec": {
   "display_name": "Python 3.9.12 64-bit",
   "language": "python",
   "name": "python3"
  },
  "language_info": {
   "codemirror_mode": {
    "name": "ipython",
    "version": 3
   },
   "file_extension": ".py",
   "mimetype": "text/x-python",
   "name": "python",
   "nbconvert_exporter": "python",
   "pygments_lexer": "ipython3",
   "version": "3.9.12"
  },
  "orig_nbformat": 4
 },
 "nbformat": 4,
 "nbformat_minor": 2
}
